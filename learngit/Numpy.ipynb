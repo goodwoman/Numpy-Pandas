{
 "cells": [
  {
   "cell_type": "markdown",
   "metadata": {},
   "source": [
    "### numpy的属性\n",
    " *  ndim：维度\n",
    " *  shape：行数和列数\n",
    " *  size：元素个数"
   ]
  },
  {
   "cell_type": "code",
   "execution_count": 2,
   "metadata": {},
   "outputs": [
    {
     "name": "stdout",
     "output_type": "stream",
     "text": [
      "2\n",
      "(3, 3)\n",
      "9\n"
     ]
    }
   ],
   "source": [
    "import numpy as np\n",
    "a=np.array([[1,2,3],[4,5,6],[7,8,9]])\n",
    "print(a.ndim)\n",
    "print(a.shape)\n",
    "print(a.size)"
   ]
  },
  {
   "cell_type": "markdown",
   "metadata": {},
   "source": [
    "### numpy的创建：\n",
    "* arange 创建数组\n",
    "* linspace 创建指定数量等间隔的序列，实际生成一个等差数列\n",
    "* logspace 用于生成等比数列\n",
    "* ones、zeros、eye、empty 创建指定数据的数组，注意：empty创建的数组是有值的，数据接近0\n",
    "* fromstring frombuffer 将字符串转化成ndarray对象\n",
    "* fromfunction 矩阵的行号列号生成矩阵的元素\n"
   ]
  },
  {
   "cell_type": "code",
   "execution_count": 7,
   "metadata": {},
   "outputs": [
    {
     "name": "stdout",
     "output_type": "stream",
     "text": [
      "[ 0.          1.66666667  3.33333333  5.          6.66666667  8.33333333\n",
      " 10.        ]\n",
      "##################################################################################\n",
      "[  1.           3.16227766  10.          31.6227766  100.        ]\n",
      "##################################################################################\n",
      "[  0   0   0   0   0   0   0   0   0   0   0   0   0   0 -16  63   0   0\n",
      "   0   0   0   0   0  64   0   0   0   0   0   0   8  64   0   0   0   0\n",
      "   0   0  16  64   0   0   0   0   0   0  20  64   0   0   0   0   0   0\n",
      " -16  63   0   0   0   0   0   0   0  64   0   0   0   0   0   0   8  64\n",
      "   0   0   0   0   0   0  16  64   0   0   0   0   0   0  20  64   0   0\n",
      "   0   0   0   0  24  64   0   0   0   0   0   0   0  64   0   0   0   0\n",
      "   0   0   8  64   0   0   0   0   0   0  16  64   0   0   0   0   0   0\n",
      "  20  64   0   0   0   0   0   0  24  64   0   0   0   0   0   0  28  64\n",
      "   0   0   0   0   0   0   8  64   0   0   0   0   0   0  16  64   0   0\n",
      "   0   0   0   0  20  64   0   0   0   0   0   0  24  64   0   0   0   0\n",
      "   0   0  28  64   0   0   0   0   0   0  32  64   0   0   0   0   0   0\n",
      "  16  64   0   0   0   0   0   0  20  64   0   0   0   0   0   0  24  64\n",
      "   0   0   0   0   0   0  28  64   0   0   0   0   0   0  32  64   0   0\n",
      "   0   0   0   0  34  64]\n",
      "#################################################################################\n",
      "[[0. 1. 2. 3. 4. 5.]\n",
      " [1. 2. 3. 4. 5. 6.]\n",
      " [2. 3. 4. 5. 6. 7.]\n",
      " [3. 4. 5. 6. 7. 8.]\n",
      " [4. 5. 6. 7. 8. 9.]]\n"
     ]
    }
   ],
   "source": [
    "#linespace()\n",
    "##################################################################################\n",
    "a1 = np.linspace(0,10,7) # 生成首位是0，末位是10，含7个数的等差数列\n",
    "print(a1)\n",
    "print('##################################################################################')\n",
    "\n",
    "#logspace()\n",
    "##################################################################################\n",
    "a2 = np.logspace(0,2,5)#生成首位是0，末位是100，含5个数的等比数列，0与2是10的指数\n",
    "print(a2)\n",
    "print('##################################################################################')\n",
    "\n",
    "#frombuffer()\n",
    "#################################################################################\n",
    "a3 = \"abcdef\"\n",
    "b = np.frombuffer(a,dtype=np.int8) # 因为一个字符为8为，所以指定dtype为np.int8\n",
    "print(b) # 返回 [ 97  98  99 100 101 102]\n",
    "print('#################################################################################')\n",
    "\n",
    "#fromfunction()\n",
    "#################################################################################\n",
    "def func(i,j): \n",
    "    return i+j\n",
    "\n",
    "a4 = np.fromfunction(func,(5,6)) \n",
    "# 第一个参数为指定函数，第二个参数为列表list或元组tuple,说明矩阵的大小\n",
    "print(a4)\n",
    "# 返回\n",
    "\n",
    "#注意这里行号的列号都是从0开始的\n",
    "####################################################################################"
   ]
  },
  {
   "cell_type": "markdown",
   "metadata": {},
   "source": [
    "### numpy的基本计算 \n",
    "* numpy中的ndarray对象重载了许多运算符，使用这些运算符可以完成矩阵间对应元素的运算。\n",
    "\n",
    "\n",
    "  * \\+\t矩阵对应元素相加\n",
    "  * \\-\t矩阵对应元素相减\n",
    "  * \\*\t矩阵对应元素相乘\n",
    "  * /\t矩阵对应元素相除，如果都是整数则取商\n",
    "  * %\t矩阵对应元素相除后取余数\n",
    "  * \\*\\*\t矩阵每个元素都取n次方，如**2：每个元素都取平方"
   ]
  },
  {
   "cell_type": "markdown",
   "metadata": {},
   "source": [
    "### numpy的基本运算函数\n",
    "  * np.sin(a)\t对矩阵a中每个元素取正弦,sin(x)\n",
    "  * np.cos(a)\t对矩阵a中每个元素取余弦,cos(x)\n",
    "  * np.tan(a)\t对矩阵a中每个元素取正切,tan(x)\n",
    "  * np.arcsin(a)\t对矩阵a中每个元素取反正弦,arcsin(x)\n",
    "  * np.arccos(a)\t对矩阵a中每个元素取反余弦,arccos(x)\n",
    "  * np.arctan(a)\t对矩阵a中每个元素取反正切,arctan(x)\n",
    "  * np.exp(a)\t对矩阵a中每个元素取指数函数,ex\n",
    "  * np.sqrt(a)\t对矩阵a中每个元素开根号√x"
   ]
  },
  {
   "cell_type": "markdown",
   "metadata": {},
   "source": [
    "### numpy的信息获取函数\n",
    " * 最大最小值 max(),min()\n",
    " * 平均值 mean()\n",
    " * 方差 var() 相当于函数mean(abs(x - x.mean())**2),其中x为矩阵\n",
    " * 标准差 std() 相当于sqrt(mean(abs(x - x.mean())**2))，或相当于sqrt(x.var())\n",
    " * 中值 median() \n",
    " \n",
    " ### 最大值"
   ]
  },
  {
   "cell_type": "code",
   "execution_count": 8,
   "metadata": {},
   "outputs": [
    {
     "name": "stdout",
     "output_type": "stream",
     "text": [
      "6\n",
      "1\n",
      "[4 5 6]\n",
      "[3 6]\n",
      "[2 2]\n"
     ]
    }
   ],
   "source": [
    "import numpy as np\n",
    "\n",
    "a = np.array([[1,2,3],[4,5,6]])\n",
    "print(a.max()) #获取整个矩阵的最大值 结果： 6\n",
    "print(a.min()) #结果：1\n",
    "\n",
    "# 可以指定关键字参数axis来获得行最大（小）值或列最大（小）值\n",
    "# axis=0 行方向最大（小）值，即获得每列的最大（小）值\n",
    "# axis=1 列方向最大（小）值，即获得每行的最大（小）值\n",
    "# 例如\n",
    "\n",
    "print(a.max(axis=0))\n",
    "# 结果为 [4 5 6]\n",
    "\n",
    "print(a.max(axis=1))\n",
    "# 结果为 [3 6]\n",
    "\n",
    "# 要想获得最大最小值元素所在的位置，可以通过argmax函数来获得\n",
    "print(a.argmax(axis=1))\n",
    "# 结果为 [2 2]"
   ]
  },
  {
   "cell_type": "markdown",
   "metadata": {},
   "source": [
    "### 中值"
   ]
  },
  {
   "cell_type": "code",
   "execution_count": 9,
   "metadata": {},
   "outputs": [
    {
     "name": "stdout",
     "output_type": "stream",
     "text": [
      "3.5\n",
      "[2.5 3.5 4.5]\n",
      "[2. 5.]\n"
     ]
    }
   ],
   "source": [
    "import numpy as np\n",
    "x = np.array([[1,2,3],[4,5,6]])\n",
    "\n",
    "print(np.median(x))  # 对所有数取中值\n",
    "# 结果\n",
    "#3.5\n",
    "\n",
    "print(np.median(x,axis=0))  # 沿第一维方向取中值\n",
    "# 结果\n",
    "#[ 2.5  3.5  4.5]\n",
    "\n",
    "print(np.median(x,axis=1))  # 沿第二维方向取中值\n",
    "# 结果\n",
    "#[ 2.  5.]"
   ]
  },
  {
   "cell_type": "markdown",
   "metadata": {},
   "source": [
    "### 求和"
   ]
  },
  {
   "cell_type": "code",
   "execution_count": 10,
   "metadata": {},
   "outputs": [
    {
     "name": "stdout",
     "output_type": "stream",
     "text": [
      "21\n",
      "[5 7 9]\n",
      "[ 6 15]\n"
     ]
    }
   ],
   "source": [
    "import numpy as np\n",
    "\n",
    "a = np.array([[1,2,3],[4,5,6]])\n",
    "\n",
    "print(a.sum())           # 对整个矩阵求和\n",
    "# 结果 21\n",
    "\n",
    "print(a.sum(axis=0)) # 对行方向求和\n",
    "# 结果 [5 7 9]\n",
    "\n",
    "print(a.sum(axis=1)) # 对列方向求和\n",
    "# 结果 [ 6 15]"
   ]
  },
  {
   "cell_type": "markdown",
   "metadata": {},
   "source": [
    "### 方差"
   ]
  },
  {
   "cell_type": "code",
   "execution_count": 11,
   "metadata": {},
   "outputs": [
    {
     "name": "stdout",
     "output_type": "stream",
     "text": [
      "2.9166666666666665\n",
      "[2.25 2.25 2.25]\n",
      "[0.66666667 0.66666667]\n"
     ]
    }
   ],
   "source": [
    "import numpy as np\n",
    "\n",
    "a = np.array([[1,2,3],[4,5,6]])\n",
    "print(a.var()) # 结果 2.91666666667\n",
    "\n",
    "print(a.var(axis=0)) # 结果 [ 2.25  2.25  2.25]\n",
    "print(a.var(axis=1)) # 结果 [ 0.66666667  0.66666667]"
   ]
  },
  {
   "cell_type": "markdown",
   "metadata": {},
   "source": [
    "### 标准差"
   ]
  },
  {
   "cell_type": "code",
   "execution_count": 12,
   "metadata": {},
   "outputs": [
    {
     "name": "stdout",
     "output_type": "stream",
     "text": [
      "1.707825127659933\n",
      "[1.5 1.5 1.5]\n",
      "[0.81649658 0.81649658]\n"
     ]
    }
   ],
   "source": [
    "import numpy as np\n",
    "\n",
    "a = np.array([[1,2,3],[4,5,6]])\n",
    "print(a.std()) # 结果 1.70782512766\n",
    "\n",
    "print(a.std(axis=0)) # 结果 [ 1.5  1.5  1.5]\n",
    "print(a.std(axis=1)) # 结果 [ 0.81649658  0.81649658]"
   ]
  },
  {
   "cell_type": "markdown",
   "metadata": {},
   "source": [
    "### numpy的合并\n",
    "* vstack() 上下合并\n",
    "* hstack() 左右合并\n",
    "* concatenate()多个数组的合并"
   ]
  },
  {
   "cell_type": "code",
   "execution_count": 14,
   "metadata": {},
   "outputs": [
    {
     "name": "stdout",
     "output_type": "stream",
     "text": [
      "[[1 1 1]\n",
      " [2 2 2]]\n",
      "(3,) (2, 3)\n",
      "\n",
      "\n",
      "\n",
      "[1 1 1 2 2 2]\n",
      "(3,) (6,)\n",
      "\n",
      "\n",
      "\n",
      "[1 1 1 2 2 2 2 2 2 1 1 1]\n",
      "\n",
      "\n",
      "\n"
     ]
    },
    {
     "ename": "AxisError",
     "evalue": "axis 1 is out of bounds for array of dimension 1",
     "output_type": "error",
     "traceback": [
      "\u001b[1;31m---------------------------------------------------------------------------\u001b[0m",
      "\u001b[1;31mAxisError\u001b[0m                                 Traceback (most recent call last)",
      "\u001b[1;32m<ipython-input-14-e2b110fbd35f>\u001b[0m in \u001b[0;36m<module>\u001b[1;34m()\u001b[0m\n\u001b[0;32m     18\u001b[0m \u001b[0mprint\u001b[0m\u001b[1;33m(\u001b[0m\u001b[1;34m'\\n\\n'\u001b[0m\u001b[1;33m)\u001b[0m\u001b[1;33m\u001b[0m\u001b[0m\n\u001b[0;32m     19\u001b[0m \u001b[1;33m\u001b[0m\u001b[0m\n\u001b[1;32m---> 20\u001b[1;33m \u001b[0mD1\u001b[0m \u001b[1;33m=\u001b[0m \u001b[0mnp\u001b[0m\u001b[1;33m.\u001b[0m\u001b[0mconcatenate\u001b[0m\u001b[1;33m(\u001b[0m\u001b[1;33m(\u001b[0m\u001b[0mA\u001b[0m\u001b[1;33m,\u001b[0m\u001b[0mB\u001b[0m\u001b[1;33m,\u001b[0m\u001b[0mB\u001b[0m\u001b[1;33m,\u001b[0m\u001b[0mA\u001b[0m\u001b[1;33m)\u001b[0m\u001b[1;33m,\u001b[0m\u001b[0maxis\u001b[0m\u001b[1;33m=\u001b[0m\u001b[1;36m1\u001b[0m\u001b[1;33m)\u001b[0m\u001b[1;33m\u001b[0m\u001b[0m\n\u001b[0m\u001b[0;32m     21\u001b[0m \u001b[0mprint\u001b[0m\u001b[1;33m(\u001b[0m\u001b[0mD1\u001b[0m\u001b[1;33m)\u001b[0m\u001b[1;33m\u001b[0m\u001b[0m\n\u001b[0;32m     22\u001b[0m \u001b[0mprint\u001b[0m\u001b[1;33m(\u001b[0m\u001b[1;34m'\\n\\n'\u001b[0m\u001b[1;33m)\u001b[0m\u001b[1;33m\u001b[0m\u001b[0m\n",
      "\u001b[1;31mAxisError\u001b[0m: axis 1 is out of bounds for array of dimension 1"
     ]
    }
   ],
   "source": [
    "import numpy as np\n",
    "A = np.array([1,1,1])\n",
    "B = np.array([2,2,2])       \n",
    "print(np.vstack((A,B)))    # vertical stack\n",
    "C = np.vstack((A,B))      \n",
    "print(A.shape,C.shape)\n",
    "print('\\n\\n')\n",
    "\n",
    "D = np.hstack((A,B))       # horizontal stack\n",
    "print(D)\n",
    "# [1,1,1,2,2,2]\n",
    "print(A.shape,D.shape)\n",
    "# (3,) (6,)\n",
    "print('\\n\\n')\n",
    "\n",
    "C1 = np.concatenate((A,B,B,A),axis=0)\n",
    "print(C1)\n",
    "print('\\n\\n')\n",
    "\n",
    "D1 = np.concatenate((A,B,B,A),axis=1)\n",
    "print(D1)\n",
    "print('\\n\\n')"
   ]
  },
  {
   "cell_type": "markdown",
   "metadata": {},
   "source": [
    "### numpy的分割\n",
    "* split() 均等分割\n",
    "* array_split() 可不均等分割"
   ]
  },
  {
   "cell_type": "code",
   "execution_count": null,
   "metadata": {},
   "outputs": [],
   "source": []
  }
 ],
 "metadata": {
  "kernelspec": {
   "display_name": "Python 3",
   "language": "python",
   "name": "python3"
  },
  "language_info": {
   "codemirror_mode": {
    "name": "ipython",
    "version": 3
   },
   "file_extension": ".py",
   "mimetype": "text/x-python",
   "name": "python",
   "nbconvert_exporter": "python",
   "pygments_lexer": "ipython3",
   "version": "3.6.4"
  }
 },
 "nbformat": 4,
 "nbformat_minor": 2
}
